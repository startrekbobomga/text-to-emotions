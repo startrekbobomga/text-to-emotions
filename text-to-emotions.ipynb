{
 "cells": [
  {
   "cell_type": "code",
   "execution_count": 2,
   "metadata": {},
   "outputs": [
    {
     "name": "stdout",
     "output_type": "stream",
     "text": [
      "                                                Text Emotions\n",
      "0          im updating my blog because i feel shitty  sadness\n",
      "1  i never make her separate from me because i do...  sadness\n",
      "2  i left with my bouquet of red and yellow tulip...      joy\n",
      "3    i was feeling a little vain when i did this one  sadness\n",
      "4  i cant walk into a shop anywhere where i do no...     fear\n"
     ]
    }
   ],
   "source": [
    "import pandas as pd \n",
    "import numpy as np\n",
    "import keras\n",
    "import tensorflow\n",
    "from keras.preprocessing.text import Tokenizer\n",
    "from keras_preprocessing.sequence import pad_sequences\n",
    "from sklearn.preprocessing import LabelEncoder\n",
    "from sklearn.model_selection import train_test_split\n",
    "from keras.models import Sequential\n",
    "from keras.layers import Embedding, Flatten,Dense\n",
    "\n",
    "data = pd.read_csv(\"test.txt\",sep=';')\n",
    "data.columns=[\"Text\",\"Emotions\"]\n",
    "print(data.head())"
   ]
  },
  {
   "cell_type": "code",
   "execution_count": 3,
   "metadata": {},
   "outputs": [],
   "source": [
    "texts = data[\"Text\"].tolist()\n",
    "labels = data[\"Emotions\"].tolist()\n",
    "tokenizer=Tokenizer()\n",
    "tokenizer.fit_on_texts(texts)\n",
    "\n",
    "sequences = tokenizer.texts_to_sequences(texts)\n",
    "max_length = max([len(seq) for seq in sequences])\n",
    "padded_sequences = pad_sequences(sequences,maxlen=max_length) \n",
    "\n",
    "label_encoder = LabelEncoder()\n",
    "labels = label_encoder.fit_transform(labels)\n",
    "\n",
    "one_hot_labels =keras.utils.to_categorical(labels)\n",
    "\n",
    "xtrain,xtest,ytrain,ytest=train_test_split(padded_sequences,one_hot_labels,test_size=0.2)"
   ]
  },
  {
   "cell_type": "code",
   "execution_count": 4,
   "metadata": {},
   "outputs": [
    {
     "name": "stdout",
     "output_type": "stream",
     "text": [
      "Epoch 1/10\n",
      "50/50 [==============================] - 1s 16ms/step - loss: 1.5900 - accuracy: 0.3440 - val_loss: 1.5972 - val_accuracy: 0.2875\n",
      "Epoch 2/10\n",
      "50/50 [==============================] - 1s 12ms/step - loss: 1.4065 - accuracy: 0.4997 - val_loss: 1.5861 - val_accuracy: 0.3275\n",
      "Epoch 3/10\n",
      "50/50 [==============================] - 1s 12ms/step - loss: 0.9605 - accuracy: 0.7011 - val_loss: 1.5813 - val_accuracy: 0.3925\n",
      "Epoch 4/10\n",
      "50/50 [==============================] - 1s 12ms/step - loss: 0.4116 - accuracy: 0.9174 - val_loss: 1.6438 - val_accuracy: 0.4125\n",
      "Epoch 5/10\n",
      "50/50 [==============================] - 1s 13ms/step - loss: 0.1359 - accuracy: 0.9856 - val_loss: 1.7203 - val_accuracy: 0.3875\n",
      "Epoch 6/10\n",
      "50/50 [==============================] - 1s 13ms/step - loss: 0.0526 - accuracy: 0.9956 - val_loss: 1.7949 - val_accuracy: 0.4050\n",
      "Epoch 7/10\n",
      "50/50 [==============================] - 1s 12ms/step - loss: 0.0268 - accuracy: 0.9981 - val_loss: 1.8770 - val_accuracy: 0.4125\n",
      "Epoch 8/10\n",
      "50/50 [==============================] - 1s 12ms/step - loss: 0.0147 - accuracy: 1.0000 - val_loss: 1.9230 - val_accuracy: 0.4075\n",
      "Epoch 9/10\n",
      "50/50 [==============================] - 1s 12ms/step - loss: 0.0095 - accuracy: 1.0000 - val_loss: 1.9649 - val_accuracy: 0.4000\n",
      "Epoch 10/10\n",
      "50/50 [==============================] - 1s 12ms/step - loss: 0.0063 - accuracy: 1.0000 - val_loss: 2.0119 - val_accuracy: 0.4050\n"
     ]
    },
    {
     "data": {
      "text/plain": [
       "<keras.callbacks.History at 0x23f354731f0>"
      ]
     },
     "execution_count": 4,
     "metadata": {},
     "output_type": "execute_result"
    }
   ],
   "source": [
    "model = Sequential()\n",
    "model.add(Embedding(input_dim=len(tokenizer.word_index)+1,output_dim=128,input_length=max_length))\n",
    "model.add(Flatten())\n",
    "model.add(Dense(units=128,activation=\"relu\"))\n",
    "model.add(Dense(units=len(one_hot_labels[0]),activation=\"softmax\"))\n",
    "model.compile(optimizer=\"adam\",loss=\"categorical_crossentropy\",metrics=[\"accuracy\"])\n",
    "model.fit(xtrain,ytrain,epochs=10,batch_size=32,validation_data=(xtest,ytest))"
   ]
  },
  {
   "cell_type": "code",
   "execution_count": 10,
   "metadata": {},
   "outputs": [
    {
     "name": "stdout",
     "output_type": "stream",
     "text": [
      "1/1 [==============================] - 0s 22ms/step\n",
      "['joy']\n"
     ]
    }
   ],
   "source": [
    "input_text=input()\n",
    "input_sequence = tokenizer.texts_to_sequences([input_text])\n",
    "padded_input_sequences = pad_sequences(input_sequence,maxlen=max_length)\n",
    "prediction = model.predict(padded_input_sequences)\n",
    "predicted_label = label_encoder.inverse_transform([np.argmax(prediction[0])])\n",
    "print(predicted_label)\n",
    "\n",
    "\n",
    "\n"
   ]
  }
 ],
 "metadata": {
  "kernelspec": {
   "display_name": "Python 3",
   "language": "python",
   "name": "python3"
  },
  "language_info": {
   "codemirror_mode": {
    "name": "ipython",
    "version": 3
   },
   "file_extension": ".py",
   "mimetype": "text/x-python",
   "name": "python",
   "nbconvert_exporter": "python",
   "pygments_lexer": "ipython3",
   "version": "3.9.6"
  },
  "orig_nbformat": 4,
  "vscode": {
   "interpreter": {
    "hash": "8256f6d72338082bed54345379dccf84717abb88560f7cb4dd38d418757173e6"
   }
  }
 },
 "nbformat": 4,
 "nbformat_minor": 2
}
